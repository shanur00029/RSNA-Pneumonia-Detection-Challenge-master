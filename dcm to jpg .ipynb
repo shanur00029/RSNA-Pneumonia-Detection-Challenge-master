{
 "cells": [
  {
   "cell_type": "code",
   "execution_count": 1,
   "metadata": {},
   "outputs": [],
   "source": [
    "import cv2\n",
    "import os\n",
    "import pydicom\n",
    "\n",
    "inputdir = 'stage_2_test_images/'\n",
    "outdir = 'test/'\n",
    "#os.mkdir(outdir)\n",
    "\n",
    "test_list = [ f for f in  os.listdir(inputdir)]\n",
    "\n",
    "for f in test_list:   # remove \"[:10]\" to convert all images \n",
    "    ds = pydicom.read_file(inputdir + f) # read dicom image\n",
    "    img = ds.pixel_array # get image array\n",
    "    cv2.imwrite(outdir + f.replace('.dcm','.jpg'),img) # write png image"
   ]
  },
  {
   "cell_type": "code",
   "execution_count": null,
   "metadata": {},
   "outputs": [],
   "source": []
  }
 ],
 "metadata": {
  "kernelspec": {
   "display_name": "Python 3",
   "language": "python",
   "name": "python3"
  },
  "language_info": {
   "codemirror_mode": {
    "name": "ipython",
    "version": 3
   },
   "file_extension": ".py",
   "mimetype": "text/x-python",
   "name": "python",
   "nbconvert_exporter": "python",
   "pygments_lexer": "ipython3",
   "version": "3.7.5"
  }
 },
 "nbformat": 4,
 "nbformat_minor": 2
}
